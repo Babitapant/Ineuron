{
  "nbformat": 4,
  "nbformat_minor": 0,
  "metadata": {
    "colab": {
      "name": "Assignment 4.ipynb",
      "provenance": []
    },
    "kernelspec": {
      "name": "python3",
      "display_name": "Python 3"
    }
  },
  "cells": [
    {
      "cell_type": "markdown",
      "metadata": {
        "id": "cfS-ZEIiOsHD"
      },
      "source": [
        "#1.1 Write a Python Program(with class concepts) to find the area of the triangle using the below\r\n",
        "#formula.\r\n",
        "#area = (s*(s-a)*(s-b)*(s-c)) ** 0.5\r\n",
        "#Function to take the length of the sides of triangle from user should be defined in the parent\r\n",
        "#class and function to calculate the area should be defined in subclass."
      ]
    },
    {
      "cell_type": "code",
      "metadata": {
        "colab": {
          "base_uri": "https://localhost:8080/"
        },
        "id": "JGpst3h9Otcq",
        "outputId": "21bdc60f-3c74-4d9f-e674-419dbe7211f9"
      },
      "source": [
        "#s is a semi-perimeter of triangle\r\n",
        "# a,b,c are sides of triange\r\n",
        "# formula of semi perimeter of triange s= (a+b+c)/2\r\n",
        "#create parent class\r\n",
        "class triangle:\r\n",
        "  def __init__(self, a,b,c):\r\n",
        "    self._a = float(a)\r\n",
        "    self._b = float(b)\r\n",
        "    self._c = float(c)\r\n",
        "print(\"input: \")\r\n",
        "a = int(input('please enter a: '))\r\n",
        "b = int(input('please enter b: '))\r\n",
        "c = int(input('please enter c: '))\r\n",
        "class area_triangle(triangle): # create a chlid class\r\n",
        "  def __init__(self,a,b,c):\r\n",
        "    super().__init__(a,b,c)\r\n",
        "  def getting_area(self):\r\n",
        "      s = (a+b+c)/2\r\n",
        "      return (s*(s-a)*(s-b)*(s-c))**0.51\r\n",
        "Sides = area_triangle(a,b,c)\r\n",
        "print(Sides)\r\n",
        "print(\"output: \")\r\n",
        "print(\"Area of Triangle : {}\". format(Sides.getting_area()))"
      ],
      "execution_count": 1,
      "outputs": [
        {
          "output_type": "stream",
          "text": [
            "input: \n",
            "please enter a: 12\n",
            "please enter b: 17\n",
            "please enter c: 25\n",
            "<__main__.area_triangle object at 0x7f23895b48d0>\n",
            "output: \n",
            "Area of Triangle : 98.47531067728832\n"
          ],
          "name": "stdout"
        }
      ]
    },
    {
      "cell_type": "markdown",
      "metadata": {
        "id": "cdsp23x-zrpB"
      },
      "source": [
        "#1.2 Write a function filter_long_words() that takes a list of words and an integer n and returns\r\n",
        "#the list of words that are longer than n."
      ]
    },
    {
      "cell_type": "code",
      "metadata": {
        "colab": {
          "base_uri": "https://localhost:8080/"
        },
        "id": "oZ65nAtad7a1",
        "outputId": "b726f668-db71-4079-e0e8-0597bc4db143"
      },
      "source": [
        "def longwords(words, number):\r\n",
        "  return list(filter (lambda x: len(x)>number, words)) #using a filter function\r\n",
        "words= (['there', 'is', \"a\",'lady','hospital']) # a list\r\n",
        "number= int(input('please enter a number: '))\r\n",
        "print('output: ')\r\n",
        "longwords(words, number)\r\n"
      ],
      "execution_count": 2,
      "outputs": [
        {
          "output_type": "stream",
          "text": [
            "please enter a number: 3\n",
            "output: \n"
          ],
          "name": "stdout"
        },
        {
          "output_type": "execute_result",
          "data": {
            "text/plain": [
              "['there', 'lady', 'hospital']"
            ]
          },
          "metadata": {
            "tags": []
          },
          "execution_count": 2
        }
      ]
    },
    {
      "cell_type": "markdown",
      "metadata": {
        "id": "4MKpJSKfa2U0"
      },
      "source": [
        "2.1 Write a Python program using function concept that maps list of words into a list of integers  representing the lengths of the corresponding words. \r\n",
        "Hint: If a list [ ab,cde,erty] is passed on to the python function output should come as [2,3,4] Here 2,3 and 4 are the lengths of the words in the list. "
      ]
    },
    {
      "cell_type": "code",
      "metadata": {
        "id": "sqyHUiNpbIaH",
        "colab": {
          "base_uri": "https://localhost:8080/"
        },
        "outputId": "168865cc-7785-452d-b08e-5733b8f2b0fd"
      },
      "source": [
        "#print length of words\r\n",
        "def map_fun(words):\r\n",
        "  return list(map(lambda x: len(x), words))\r\n",
        "words= list([\"there\", \"is\", \"a\", \"hospital\"])\r\n",
        "print(\"Output: \")\r\n",
        "print(map_fun(words))\r\n"
      ],
      "execution_count": 3,
      "outputs": [
        {
          "output_type": "stream",
          "text": [
            "Output: \n",
            "[5, 2, 1, 8]\n"
          ],
          "name": "stdout"
        }
      ]
    },
    {
      "cell_type": "code",
      "metadata": {
        "id": "tsvilMoSbI-v"
      },
      "source": [
        ""
      ],
      "execution_count": 3,
      "outputs": []
    },
    {
      "cell_type": "markdown",
      "metadata": {
        "id": "eHEl0PI7bJaY"
      },
      "source": [
        "2.2 Write a Python function which takes a character (i.e. a string of length 1) and returns True if  it is a vowel, False otherwise. "
      ]
    },
    {
      "cell_type": "code",
      "metadata": {
        "colab": {
          "base_uri": "https://localhost:8080/"
        },
        "id": "7u3VMoKZdCU8",
        "outputId": "b64b7290-1964-4e58-800a-28d30126e604"
      },
      "source": [
        "def vowel_fun(alpha): # create a function\r\n",
        "  vowel = 'aeiou'\r\n",
        "  return  alpha in vowel\r\n",
        "print('input: ')\r\n",
        "function= input(\"please input a alphabate: \")\r\n",
        "print(\"output: \")\r\n",
        "vowel_fun(function)"
      ],
      "execution_count": 4,
      "outputs": [
        {
          "output_type": "stream",
          "text": [
            "input: \n",
            "please input a alphabate: s\n",
            "output: \n"
          ],
          "name": "stdout"
        },
        {
          "output_type": "execute_result",
          "data": {
            "text/plain": [
              "False"
            ]
          },
          "metadata": {
            "tags": []
          },
          "execution_count": 4
        }
      ]
    },
    {
      "cell_type": "code",
      "metadata": {
        "id": "SkNEfiW-dEM0"
      },
      "source": [
        ""
      ],
      "execution_count": null,
      "outputs": []
    }
  ]
}