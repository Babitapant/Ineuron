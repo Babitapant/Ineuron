{
  "nbformat": 4,
  "nbformat_minor": 0,
  "metadata": {
    "colab": {
      "name": "ineuron project2.ipynb",
      "provenance": []
    },
    "kernelspec": {
      "name": "python3",
      "display_name": "Python 3"
    }
  },
  "cells": [
    {
      "cell_type": "markdown",
      "metadata": {
        "id": "M1YyLSG9x4J3"
      },
      "source": [
        "Q1.Create the below pattern using nested for loop in Python."
      ]
    },
    {
      "cell_type": "code",
      "metadata": {
        "colab": {
          "base_uri": "https://localhost:8080/"
        },
        "id": "RBNg8_eCyC1b",
        "outputId": "48e21008-8a91-453e-d2da-02f40443ab65"
      },
      "source": [
        "n = 5;\r\n",
        "for i in range(n):\r\n",
        "  for j in range(i):\r\n",
        "    print('*', end = \"\")\r\n",
        "  print('')\r\n",
        "for i in range (n, 0,-1):\r\n",
        "  for j in range(i):\r\n",
        "    print('*', end = '')\r\n",
        "  print('')"
      ],
      "execution_count": 5,
      "outputs": [
        {
          "output_type": "stream",
          "text": [
            "\n",
            "*\n",
            "**\n",
            "***\n",
            "****\n",
            "*****\n",
            "****\n",
            "***\n",
            "**\n",
            "*\n"
          ],
          "name": "stdout"
        }
      ]
    },
    {
      "cell_type": "markdown",
      "metadata": {
        "id": "FXNiNWNZvFCY"
      },
      "source": [
        "Q2. Write a Python program to reverse a word after accepting the input from the user."
      ]
    },
    {
      "cell_type": "code",
      "metadata": {
        "colab": {
          "base_uri": "https://localhost:8080/"
        },
        "id": "c07jHSMuufDr",
        "outputId": "2b72c4d4-2fed-483d-c9d0-659f85d46ee7"
      },
      "source": [
        "## initializing the string\r\n",
        "string = \"India has the second-largest population in the world\"\r\n",
        "## splitting the string on space\r\n",
        "words = string.split()\r\n",
        "## reversing the words using reversed() function\r\n",
        "words = list(reversed(words))\r\n",
        "## joining the words and printing\r\n",
        "print(\" \".join(words))"
      ],
      "execution_count": 4,
      "outputs": [
        {
          "output_type": "stream",
          "text": [
            "world the in population second-largest the has India\n"
          ],
          "name": "stdout"
        }
      ]
    }
  ]
}