{
  "nbformat": 4,
  "nbformat_minor": 0,
  "metadata": {
    "colab": {
      "name": "Assignment3.ipynb",
      "provenance": [],
      "toc_visible": true
    },
    "kernelspec": {
      "name": "python3",
      "display_name": "Python 3"
    }
  },
  "cells": [
    {
      "cell_type": "markdown",
      "metadata": {
        "id": "ji2flrC4ftNt"
      },
      "source": [
        "#Write a Python Program to implement your own myreduce() function which works exactly like Python's built-in function reduce()\r\n",
        "\r\n",
        "\r\n",
        "\r\n",
        "\r\n",
        "\r\n",
        "\r\n",
        "\r\n",
        "\r\n",
        "\r\n",
        "\r\n",
        "\r\n",
        "\r\n",
        "\r\n",
        "\r\n",
        "\r\n",
        "\r\n",
        "\r\n",
        "\r\n",
        "\r\n",
        "\r\n",
        "\r\n",
        "\r\n",
        "\r\n",
        "\r\n"
      ]
    },
    {
      "cell_type": "code",
      "metadata": {
        "colab": {
          "base_uri": "https://localhost:8080/"
        },
        "id": "uIrdMkNwfqEH",
        "outputId": "c713a414-b630-4c59-fda3-0fbe85f6e872"
      },
      "source": [
        "# Import reduce function \r\n",
        "from functools import reduce\r\n",
        "# sum of n natural number \r\n",
        "#input function\r\n",
        "print(\"input:\")\r\n",
        "number = int(input(\"enter a number: \"))\r\n",
        "num_list = list(range(1,(number+1)))\r\n",
        "sum_of_natural_number= reduce((lambda x,y: x+y), num_list)\r\n",
        "#Output\r\n",
        "print(\"Output:\")\r\n",
        "print(\"List of First n Natural numbers are:\",num_list)\r\n",
        "print(\"Sum of List elements are :\",sum_of_natural_number)"
      ],
      "execution_count": 1,
      "outputs": [
        {
          "output_type": "stream",
          "text": [
            "input:\n",
            "enter a number: 70\n",
            "Output:\n",
            "List of First n Natural numbers are: [1, 2, 3, 4, 5, 6, 7, 8, 9, 10, 11, 12, 13, 14, 15, 16, 17, 18, 19, 20, 21, 22, 23, 24, 25, 26, 27, 28, 29, 30, 31, 32, 33, 34, 35, 36, 37, 38, 39, 40, 41, 42, 43, 44, 45, 46, 47, 48, 49, 50, 51, 52, 53, 54, 55, 56, 57, 58, 59, 60, 61, 62, 63, 64, 65, 66, 67, 68, 69, 70]\n",
            "Sum of List elements are : 2485\n"
          ],
          "name": "stdout"
        }
      ]
    },
    {
      "cell_type": "markdown",
      "metadata": {
        "id": "T7n83G0FgXjr"
      },
      "source": [
        "#Write a Python program to implement your own myfilter() function which works exactly\r\n",
        "#like Python's built-in function filter()"
      ]
    },
    {
      "cell_type": "code",
      "metadata": {
        "colab": {
          "base_uri": "https://localhost:8080/"
        },
        "id": "1-07Y5W4f7PM",
        "outputId": "7be596de-bc15-4d24-ce4f-caff2ff8a0a2"
      },
      "source": [
        "#create a function\r\n",
        "# Identify Even and Odd number by filter method\r\n",
        "def myfilter(n):\r\n",
        "  return n\r\n",
        "print(\"input:\")\r\n",
        "Number= int(input(\"please enter a number\"))\r\n",
        "n= list(range(1,Number+1))\r\n",
        "\r\n",
        "Even_checks= list(filter(lambda x: x%2==0,n))\r\n",
        "Odd_checks= list(filter(lambda X: X%2!=0, n))\r\n",
        "print('output: ')\r\n",
        "print(\"Hi am even number:\", Even_checks)\r\n",
        "print(\"Hi am odd number:\", Odd_checks)\r\n",
        "\r\n",
        "\r\n"
      ],
      "execution_count": 2,
      "outputs": [
        {
          "output_type": "stream",
          "text": [
            "input:\n",
            "please enter a number100\n",
            "output: \n",
            "Hi am even number: [2, 4, 6, 8, 10, 12, 14, 16, 18, 20, 22, 24, 26, 28, 30, 32, 34, 36, 38, 40, 42, 44, 46, 48, 50, 52, 54, 56, 58, 60, 62, 64, 66, 68, 70, 72, 74, 76, 78, 80, 82, 84, 86, 88, 90, 92, 94, 96, 98, 100]\n",
            "Hi am odd number: [1, 3, 5, 7, 9, 11, 13, 15, 17, 19, 21, 23, 25, 27, 29, 31, 33, 35, 37, 39, 41, 43, 45, 47, 49, 51, 53, 55, 57, 59, 61, 63, 65, 67, 69, 71, 73, 75, 77, 79, 81, 83, 85, 87, 89, 91, 93, 95, 97, 99]\n"
          ],
          "name": "stdout"
        }
      ]
    },
    {
      "cell_type": "markdown",
      "metadata": {
        "id": "2T0wglbay3JM"
      },
      "source": [
        "#Implement List comprehensions to produce the following lists.\r\n",
        "#Write List comprehensions to produce the following Lists\r\n",
        "['x', 'xx', 'xxx', 'xxxx', 'y', 'yy', 'yyy', 'yyyy', 'z', 'zz', 'zzz', 'zzzz']\r\n",
        "['x', 'y', 'z', 'xx', 'yy', 'zz', 'xxx', 'yyy', 'zzz', 'xxxx', 'yyyy', 'zzzz']\r\n",
        "[[2], [3], [4], [3], [4], [5], [4], [5], [6]] [[2, 3, 4, 5], [3, 4, 5, 6],\r\n",
        "[4, 5, 6, 7], [5, 6, 7, 8]]\r\n",
        "[(1, 1), (2, 1), (3, 1), (1, 2), (2, 2), (3, 2), (1, 3), (2, 3), (3, 3)]"
      ]
    },
    {
      "cell_type": "code",
      "metadata": {
        "colab": {
          "base_uri": "https://localhost:8080/"
        },
        "id": "xp8wwnf9y5gr",
        "outputId": "edf73756-1cec-4567-dc1e-22beb44123d6"
      },
      "source": [
        "\r\n",
        "#Solution\r\n",
        "\r\n",
        "#Section 1\r\n",
        "word_1= list('xyz')\r\n",
        "word_2= [x*n for x in word_1 for n in range(1,5) ]\r\n",
        "print(word_2)\r\n",
        "\r\n",
        "#Section 2\r\n",
        "word_3=[x*n for n in range(1,5) for x in word_1 ]\r\n",
        "print(word_3)\r\n",
        "\r\n",
        "#Section 3\r\n",
        "Number= [2,3,4]\r\n",
        "Number_1= [[x+n] for x in Number for n in range(0,3)]\r\n",
        "print(Number_1)\r\n",
        "\r\n",
        "#Section 4\r\n",
        "Number3 = [2,3,4,5]\r\n",
        "Number_4= [[x+n for n in range(0,4)] for x in Number3]\r\n",
        "print(Number_4)\r\n",
        "\r\n",
        "#Section 5\r\n",
        "\r\n",
        "number_5=[1,2,3]\r\n",
        "number_6= [(b,a) for a in number_5 for b in number_5]\r\n",
        "print(number_6)"
      ],
      "execution_count": 3,
      "outputs": [
        {
          "output_type": "stream",
          "text": [
            "['x', 'xx', 'xxx', 'xxxx', 'y', 'yy', 'yyy', 'yyyy', 'z', 'zz', 'zzz', 'zzzz']\n",
            "['x', 'y', 'z', 'xx', 'yy', 'zz', 'xxx', 'yyy', 'zzz', 'xxxx', 'yyyy', 'zzzz']\n",
            "[[2], [3], [4], [3], [4], [5], [4], [5], [6]]\n",
            "[[2, 3, 4, 5], [3, 4, 5, 6], [4, 5, 6, 7], [5, 6, 7, 8]]\n",
            "[(1, 1), (2, 1), (3, 1), (1, 2), (2, 2), (3, 2), (1, 3), (2, 3), (3, 3)]\n"
          ],
          "name": "stdout"
        }
      ]
    },
    {
      "cell_type": "code",
      "metadata": {
        "id": "3bULzkmcpT6o"
      },
      "source": [
        ""
      ],
      "execution_count": null,
      "outputs": []
    }
  ]
}