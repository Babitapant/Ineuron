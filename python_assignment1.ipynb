{
  "nbformat": 4,
  "nbformat_minor": 0,
  "metadata": {
    "colab": {
      "name": "python assignment1.ipynb",
      "provenance": [],
      "collapsed_sections": []
    },
    "kernelspec": {
      "name": "python3",
      "display_name": "Python 3"
    }
  },
  "cells": [
    {
      "cell_type": "markdown",
      "metadata": {
        "id": "paZN9Kd5FHfc"
      },
      "source": [
        "Q1.Write a program which will find all such numbers which are divisible by 7 but are not a multiple of 5, between 2000 and 3200 (both included). The numbers obtained should be printed\r\n",
        "in a comma-separated sequence on a single line."
      ]
    },
    {
      "cell_type": "code",
      "metadata": {
        "colab": {
          "base_uri": "https://localhost:8080/"
        },
        "id": "oyYXdR_NFNCN",
        "outputId": "25b2d41f-a5fb-4881-a69c-81aef9ade6d9"
      },
      "source": [
        "# create a class\r\n",
        "number= []\r\n",
        "#using for loop\r\n",
        "for x in range (2000,3200):\r\n",
        "  if (x%7 ==0) and (x%5 !=0):\r\n",
        "    number.append(str(x))\r\n",
        "print(','. join(number))\r\n",
        "\r\n"
      ],
      "execution_count": 16,
      "outputs": [
        {
          "output_type": "stream",
          "text": [
            "2002,2009,2016,2023,2037,2044,2051,2058,2072,2079,2086,2093,2107,2114,2121,2128,2142,2149,2156,2163,2177,2184,2191,2198,2212,2219,2226,2233,2247,2254,2261,2268,2282,2289,2296,2303,2317,2324,2331,2338,2352,2359,2366,2373,2387,2394,2401,2408,2422,2429,2436,2443,2457,2464,2471,2478,2492,2499,2506,2513,2527,2534,2541,2548,2562,2569,2576,2583,2597,2604,2611,2618,2632,2639,2646,2653,2667,2674,2681,2688,2702,2709,2716,2723,2737,2744,2751,2758,2772,2779,2786,2793,2807,2814,2821,2828,2842,2849,2856,2863,2877,2884,2891,2898,2912,2919,2926,2933,2947,2954,2961,2968,2982,2989,2996,3003,3017,3024,3031,3038,3052,3059,3066,3073,3087,3094,3101,3108,3122,3129,3136,3143,3157,3164,3171,3178,3192,3199\n"
          ],
          "name": "stdout"
        }
      ]
    },
    {
      "cell_type": "markdown",
      "metadata": {
        "id": "Z-FBQshJI0nc"
      },
      "source": [
        "Q2. Write a Python program to accept the user's first and last name and then getting themprinted in the the reverse order with a space between first name and last name.\r\n"
      ]
    },
    {
      "cell_type": "code",
      "metadata": {
        "colab": {
          "base_uri": "https://localhost:8080/"
        },
        "id": "317x6BwZMoVF",
        "outputId": "757ca57b-3b23-490c-be7d-56a71f101d48"
      },
      "source": [
        "# Create a class\r\n",
        "string = []\r\n",
        "First_name = \"Liam\"\r\n",
        "Last_name = \"Olivia\"\r\n",
        "string.append(First_name + \", \"+ Last_name)\r\n",
        "print(string)"
      ],
      "execution_count": 51,
      "outputs": [
        {
          "output_type": "stream",
          "text": [
            "['Liam, Olivia']\n"
          ],
          "name": "stdout"
        }
      ]
    },
    {
      "cell_type": "code",
      "metadata": {
        "colab": {
          "base_uri": "https://localhost:8080/"
        },
        "id": "_66IBWGLZlAr",
        "outputId": "2f7d7f05-a630-46ea-b06b-a4afd461da04"
      },
      "source": [
        "print(' '.join(reversed(string[-1])))"
      ],
      "execution_count": 55,
      "outputs": [
        {
          "output_type": "stream",
          "text": [
            "a i v i l O   , m a i L\n"
          ],
          "name": "stdout"
        }
      ]
    },
    {
      "cell_type": "markdown",
      "metadata": {
        "id": "QUImjIXmAv2T"
      },
      "source": [
        "Q3.Write a Python program to find the volume of a sphere with diameter 12 cm\r\n",
        "Formula: V=4/3 * π * r 3\r\n"
      ]
    },
    {
      "cell_type": "code",
      "metadata": {
        "colab": {
          "base_uri": "https://localhost:8080/"
        },
        "id": "SZAacL6jA2K9",
        "outputId": "25123350-36b6-4b74-b811-7b46ccb973b6"
      },
      "source": [
        "Diameter = 12\r\n",
        "pie = 3.14\r\n",
        "volume = (4/3)*pie*((Diameter/2)**3)\r\n",
        "Volume= print(\"volume of the sphere=\"+str(volume))"
      ],
      "execution_count": 15,
      "outputs": [
        {
          "output_type": "stream",
          "text": [
            "volume of the sphere=904.3199999999999\n"
          ],
          "name": "stdout"
        }
      ]
    }
  ]
}